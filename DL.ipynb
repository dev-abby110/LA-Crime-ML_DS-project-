{
  "nbformat": 4,
  "nbformat_minor": 0,
  "metadata": {
    "colab": {
      "provenance": []
    },
    "kernelspec": {
      "name": "python3",
      "display_name": "Python 3"
    },
    "language_info": {
      "name": "python"
    }
  },
  "cells": [
    {
      "cell_type": "code",
      "execution_count": null,
      "metadata": {
        "colab": {
          "base_uri": "https://localhost:8080/"
        },
        "id": "Z6JCKsjDsvLO",
        "outputId": "6bbf073a-017b-40ef-d8f4-f6d1c655b50a"
      },
      "outputs": [
        {
          "output_type": "stream",
          "name": "stdout",
          "text": [
            "Downloading dataset...\n",
            "Downloading from https://www.kaggle.com/api/v1/datasets/download/shubhamgupta012/crime-data-from-2020-to-present?dataset_version_number=1...\n"
          ]
        },
        {
          "output_type": "stream",
          "name": "stderr",
          "text": [
            "100%|██████████| 36.5M/36.5M [00:00<00:00, 114MB/s] "
          ]
        },
        {
          "output_type": "stream",
          "name": "stdout",
          "text": [
            "Extracting files...\n"
          ]
        },
        {
          "output_type": "stream",
          "name": "stderr",
          "text": [
            "\n"
          ]
        },
        {
          "output_type": "stream",
          "name": "stdout",
          "text": [
            "Path to dataset files: /root/.cache/kagglehub/datasets/shubhamgupta012/crime-data-from-2020-to-present/versions/1\n"
          ]
        }
      ],
      "source": [
        "import kagglehub\n",
        "import pandas as pd\n",
        "import numpy as np\n",
        "import matplotlib.pyplot as plt\n",
        "import seaborn as sns\n",
        "from sklearn.model_selection import train_test_split\n",
        "from sklearn.preprocessing import LabelEncoder, StandardScaler\n",
        "from sklearn.metrics import classification_report, confusion_matrix, accuracy_score\n",
        "import tensorflow as tf\n",
        "from tensorflow import keras\n",
        "from tensorflow.keras import layers\n",
        "import warnings\n",
        "warnings.filterwarnings('ignore')\n",
        "\n",
        "# Download dataset\n",
        "print(\"Downloading dataset...\")\n",
        "path = kagglehub.dataset_download(\"shubhamgupta012/crime-data-from-2020-to-present\")\n",
        "print(f\"Path to dataset files: {path}\")\n"
      ]
    },
    {
      "cell_type": "code",
      "source": [
        "# Load the dataset\n",
        "import os\n",
        "files = os.listdir(path)\n",
        "print(f\"\\nFiles in dataset: {files}\")\n",
        "\n",
        "csv_file = [f for f in files if f.endswith('.csv')][0]\n",
        "df = pd.read_csv(os.path.join(path, csv_file))\n",
        "\n",
        "print(f\"\\nDataset shape: {df.shape}\")\n",
        "print(\"\\n\" + \"=\"*80)\n",
        "print(\"INITIAL DATA EXPLORATION\")\n",
        "print(\"=\"*80)\n",
        "print(f\"\\nFirst few rows:\")\n",
        "print(df.head())\n",
        "print(f\"\\nData types:\\n{df.dtypes}\")\n",
        "print(f\"\\nMissing values:\\n{df.isnull().sum()}\")\n",
        "print(f\"\\nBasic statistics:\\n{df.describe()}\")"
      ],
      "metadata": {
        "colab": {
          "base_uri": "https://localhost:8080/"
        },
        "id": "jgSA1nccs3Cq",
        "outputId": "bc5e876b-1e80-4125-a76f-eb5ba477dee0"
      },
      "execution_count": null,
      "outputs": [
        {
          "output_type": "stream",
          "name": "stdout",
          "text": [
            "\n",
            "Files in dataset: ['Crime_Data_from_2020_to_Present.csv']\n",
            "\n",
            "Dataset shape: (743817, 28)\n",
            "\n",
            "================================================================================\n",
            "INITIAL DATA EXPLORATION\n",
            "================================================================================\n",
            "\n",
            "First few rows:\n",
            "       DR_NO               Date Rptd                DATE OCC  TIME OCC  AREA  \\\n",
            "0   10304468  01/08/2020 12:00:00 AM  01/08/2020 12:00:00 AM      2230     3   \n",
            "1  190101086  01/02/2020 12:00:00 AM  01/01/2020 12:00:00 AM       330     1   \n",
            "2  200110444  04/14/2020 12:00:00 AM  02/13/2020 12:00:00 AM      1200     1   \n",
            "3  191501505  01/01/2020 12:00:00 AM  01/01/2020 12:00:00 AM      1730    15   \n",
            "4  191921269  01/01/2020 12:00:00 AM  01/01/2020 12:00:00 AM       415    19   \n",
            "\n",
            "     AREA NAME  Rpt Dist No  Part 1-2  Crm Cd  \\\n",
            "0    Southwest          377         2     624   \n",
            "1      Central          163         2     624   \n",
            "2      Central          155         2     845   \n",
            "3  N Hollywood         1543         2     745   \n",
            "4      Mission         1998         2     740   \n",
            "\n",
            "                                         Crm Cd Desc  ... Status  \\\n",
            "0                           BATTERY - SIMPLE ASSAULT  ...     AO   \n",
            "1                           BATTERY - SIMPLE ASSAULT  ...     IC   \n",
            "2          SEX OFFENDER REGISTRANT OUT OF COMPLIANCE  ...     AA   \n",
            "3           VANDALISM - MISDEAMEANOR ($399 OR UNDER)  ...     IC   \n",
            "4  VANDALISM - FELONY ($400 & OVER, ALL CHURCH VA...  ...     IC   \n",
            "\n",
            "    Status Desc Crm Cd 1 Crm Cd 2  Crm Cd 3 Crm Cd 4  \\\n",
            "0   Adult Other    624.0      NaN       NaN      NaN   \n",
            "1   Invest Cont    624.0      NaN       NaN      NaN   \n",
            "2  Adult Arrest    845.0      NaN       NaN      NaN   \n",
            "3   Invest Cont    745.0    998.0       NaN      NaN   \n",
            "4   Invest Cont    740.0      NaN       NaN      NaN   \n",
            "\n",
            "                                   LOCATION Cross Street      LAT       LON  \n",
            "0   1100 W  39TH                         PL          NaN  34.0141 -118.2978  \n",
            "1    700 S  HILL                         ST          NaN  34.0459 -118.2545  \n",
            "2    200 E  6TH                          ST          NaN  34.0448 -118.2474  \n",
            "3   5400    CORTEEN                      PL          NaN  34.1685 -118.4019  \n",
            "4  14400    TITUS                        ST          NaN  34.2198 -118.4468  \n",
            "\n",
            "[5 rows x 28 columns]\n",
            "\n",
            "Data types:\n",
            "DR_NO               int64\n",
            "Date Rptd          object\n",
            "DATE OCC           object\n",
            "TIME OCC            int64\n",
            "AREA                int64\n",
            "AREA NAME          object\n",
            "Rpt Dist No         int64\n",
            "Part 1-2            int64\n",
            "Crm Cd              int64\n",
            "Crm Cd Desc        object\n",
            "Mocodes            object\n",
            "Vict Age            int64\n",
            "Vict Sex           object\n",
            "Vict Descent       object\n",
            "Premis Cd         float64\n",
            "Premis Desc        object\n",
            "Weapon Used Cd    float64\n",
            "Weapon Desc        object\n",
            "Status             object\n",
            "Status Desc        object\n",
            "Crm Cd 1          float64\n",
            "Crm Cd 2          float64\n",
            "Crm Cd 3          float64\n",
            "Crm Cd 4          float64\n",
            "LOCATION           object\n",
            "Cross Street       object\n",
            "LAT               float64\n",
            "LON               float64\n",
            "dtype: object\n",
            "\n",
            "Missing values:\n",
            "DR_NO                  0\n",
            "Date Rptd              0\n",
            "DATE OCC               0\n",
            "TIME OCC               0\n",
            "AREA                   0\n",
            "AREA NAME              0\n",
            "Rpt Dist No            0\n",
            "Part 1-2               0\n",
            "Crm Cd                 0\n",
            "Crm Cd Desc            0\n",
            "Mocodes           102024\n",
            "Vict Age               0\n",
            "Vict Sex           97040\n",
            "Vict Descent       97046\n",
            "Premis Cd              9\n",
            "Premis Desc          424\n",
            "Weapon Used Cd    485624\n",
            "Weapon Desc       485624\n",
            "Status                 0\n",
            "Status Desc            0\n",
            "Crm Cd 1               9\n",
            "Crm Cd 2          688731\n",
            "Crm Cd 3          741978\n",
            "Crm Cd 4          743763\n",
            "LOCATION               0\n",
            "Cross Street      624067\n",
            "LAT                    0\n",
            "LON                    0\n",
            "dtype: int64\n",
            "\n",
            "Basic statistics:\n",
            "              DR_NO       TIME OCC           AREA    Rpt Dist No  \\\n",
            "count  7.438170e+05  743817.000000  743817.000000  743817.000000   \n",
            "mean   2.145867e+08    1334.877319      10.717617    1118.155374   \n",
            "std    1.019061e+07     653.669683       6.092044     609.211199   \n",
            "min    8.170000e+02       1.000000       1.000000     101.000000   \n",
            "25%    2.021079e+08     900.000000       6.000000     622.000000   \n",
            "50%    2.118209e+08    1415.000000      11.000000    1142.000000   \n",
            "75%    2.214132e+08    1900.000000      16.000000    1618.000000   \n",
            "max    2.399165e+08    2359.000000      21.000000    2199.000000   \n",
            "\n",
            "            Part 1-2         Crm Cd       Vict Age      Premis Cd  \\\n",
            "count  743817.000000  743817.000000  743817.000000  743808.000000   \n",
            "mean        1.415971     500.929161      29.920445     305.927261   \n",
            "std         0.492889     207.982265      21.723517     216.805718   \n",
            "min         1.000000     110.000000      -2.000000     101.000000   \n",
            "25%         1.000000     331.000000      11.000000     101.000000   \n",
            "50%         1.000000     442.000000      31.000000     203.000000   \n",
            "75%         2.000000     626.000000      45.000000     501.000000   \n",
            "max         2.000000     956.000000     120.000000     974.000000   \n",
            "\n",
            "       Weapon Used Cd       Crm Cd 1      Crm Cd 2     Crm Cd 3    Crm Cd 4  \\\n",
            "count   258193.000000  743808.000000  55086.000000  1839.000000   54.000000   \n",
            "mean       362.581739     500.669532    957.231384   983.693312  989.925926   \n",
            "std        123.675447     207.771223    111.982666    51.595992   29.327591   \n",
            "min        101.000000     110.000000    210.000000   434.000000  821.000000   \n",
            "25%        309.000000     331.000000    998.000000   998.000000  998.000000   \n",
            "50%        400.000000     442.000000    998.000000   998.000000  998.000000   \n",
            "75%        400.000000     626.000000    998.000000   998.000000  998.000000   \n",
            "max        516.000000     956.000000    999.000000   999.000000  999.000000   \n",
            "\n",
            "                 LAT            LON  \n",
            "count  743817.000000  743817.000000  \n",
            "mean       33.969753    -117.993467  \n",
            "std         1.881087       6.523385  \n",
            "min         0.000000    -118.667600  \n",
            "25%        34.013300    -118.429500  \n",
            "50%        34.058500    -118.321400  \n",
            "75%        34.163000    -118.273900  \n",
            "max        34.334300       0.000000  \n"
          ]
        }
      ]
    },
    {
      "cell_type": "code",
      "source": [
        "print(\"\\n\" + \"=\"*80)\n",
        "print(\"DATA CLEANING\")\n",
        "print(\"=\"*80)\n",
        "\n",
        "# Create a copy for cleaning\n",
        "df_clean = df.copy()\n",
        "\n",
        "# Remove duplicate rows\n",
        "initial_rows = len(df_clean)\n",
        "df_clean = df_clean.drop_duplicates()\n",
        "print(f\"\\nRemoved {initial_rows - len(df_clean)} duplicate rows\")\n",
        "\n",
        "# Handle missing values\n",
        "print(f\"\\nMissing values before cleaning:\\n{df_clean.isnull().sum()[df_clean.isnull().sum() > 0]}\")\n",
        "\n",
        "# Drop columns with too many missing values (>50%)\n",
        "threshold = len(df_clean) * 0.5\n",
        "df_clean = df_clean.dropna(thresh=threshold, axis=1)"
      ],
      "metadata": {
        "colab": {
          "base_uri": "https://localhost:8080/"
        },
        "id": "yE456_vvs-7h",
        "outputId": "4efdb442-ef2d-4a9d-cc38-3db854e8c8a0"
      },
      "execution_count": null,
      "outputs": [
        {
          "output_type": "stream",
          "name": "stdout",
          "text": [
            "\n",
            "================================================================================\n",
            "DATA CLEANING\n",
            "================================================================================\n",
            "\n",
            "Removed 0 duplicate rows\n",
            "\n",
            "Missing values before cleaning:\n",
            "Mocodes           102024\n",
            "Vict Sex           97040\n",
            "Vict Descent       97046\n",
            "Premis Cd              9\n",
            "Premis Desc          424\n",
            "Weapon Used Cd    485624\n",
            "Weapon Desc       485624\n",
            "Crm Cd 1               9\n",
            "Crm Cd 2          688731\n",
            "Crm Cd 3          741978\n",
            "Crm Cd 4          743763\n",
            "Cross Street      624067\n",
            "dtype: int64\n"
          ]
        }
      ]
    },
    {
      "cell_type": "code",
      "source": [
        "# For remaining columns, handle missing values\n",
        "for col in df_clean.columns:\n",
        "    if df_clean[col].isnull().sum() > 0:\n",
        "        if df_clean[col].dtype in ['int64', 'float64']:\n",
        "            df_clean[col].fillna(df_clean[col].median(), inplace=True)\n",
        "        else:\n",
        "            df_clean[col].fillna(df_clean[col].mode()[0], inplace=True)\n",
        "\n",
        "print(f\"\\nMissing values after cleaning:\\n{df_clean.isnull().sum().sum()} total missing values\")\n",
        "\n",
        "# Convert date columns if present\n",
        "date_columns = [col for col in df_clean.columns if 'date' in col.lower() or 'time' in col.lower()]\n",
        "for col in date_columns:\n",
        "    try:\n",
        "        df_clean[col] = pd.to_datetime(df_clean[col], errors='coerce')\n",
        "        print(f\"\\nConverted {col} to datetime\")\n",
        "    except:\n",
        "        pass"
      ],
      "metadata": {
        "colab": {
          "base_uri": "https://localhost:8080/"
        },
        "id": "II9AJvwitFnZ",
        "outputId": "c5cf7c8e-b15f-4ff4-cf9f-7a0d4ce2a03f"
      },
      "execution_count": null,
      "outputs": [
        {
          "output_type": "stream",
          "name": "stdout",
          "text": [
            "\n",
            "Missing values after cleaning:\n",
            "0 total missing values\n",
            "\n",
            "Converted Date Rptd to datetime\n",
            "\n",
            "Converted DATE OCC to datetime\n",
            "\n",
            "Converted TIME OCC to datetime\n"
          ]
        }
      ]
    },
    {
      "cell_type": "code",
      "source": [
        "# Remove outliers using IQR method for numeric columns\n",
        "numeric_cols = df_clean.select_dtypes(include=[np.number]).columns\n",
        "print(f\"\\nRemoving outliers from numeric columns...\")\n",
        "for col in numeric_cols:\n",
        "    Q1 = df_clean[col].quantile(0.25)\n",
        "    Q3 = df_clean[col].quantile(0.75)\n",
        "    IQR = Q3 - Q1\n",
        "    lower_bound = Q1 - 1.5 * IQR\n",
        "    upper_bound = Q3 + 1.5 * IQR\n",
        "    initial_count = len(df_clean)\n",
        "    df_clean = df_clean[(df_clean[col] >= lower_bound) & (df_clean[col] <= upper_bound)]\n",
        "    removed = initial_count - len(df_clean)\n",
        "    if removed > 0:\n",
        "        print(f\"  {col}: removed {removed} outliers\")\n",
        "\n",
        "print(f\"\\nCleaned dataset shape: {df_clean.shape}\")\n"
      ],
      "metadata": {
        "colab": {
          "base_uri": "https://localhost:8080/"
        },
        "id": "HIy67SButR9N",
        "outputId": "c71e36b4-e83c-4d9d-94f1-928937fd32ae"
      },
      "execution_count": null,
      "outputs": [
        {
          "output_type": "stream",
          "name": "stdout",
          "text": [
            "\n",
            "Removing outliers from numeric columns...\n",
            "  DR_NO: removed 4 outliers\n",
            "  Vict Age: removed 391 outliers\n",
            "  LAT: removed 23389 outliers\n",
            "\n",
            "Cleaned dataset shape: (720033, 22)\n"
          ]
        }
      ]
    },
    {
      "cell_type": "code",
      "source": [
        "# FEATURE ENGINEERING FOR ANN\n",
        "# ============================================================================\n",
        "print(\"\\n\" + \"=\"*80)\n",
        "print(\"FEATURE ENGINEERING\")\n",
        "print(\"=\"*80)\n",
        "\n",
        "# Select relevant columns for modeling\n",
        "# We'll try to predict crime type or status based on available features\n",
        "categorical_cols = df_clean.select_dtypes(include=['object']).columns.tolist()\n",
        "numeric_cols = df_clean.select_dtypes(include=[np.number]).columns.tolist()\n",
        "\n",
        "print(f\"\\nCategorical columns: {len(categorical_cols)}\")\n",
        "print(f\"Numeric columns: {len(numeric_cols)}\")\n",
        "\n",
        "# Select target variable (most common: crime type or status)\n",
        "# Let's identify the best target column\n",
        "potential_targets = ['Crm Cd Desc', 'Status Desc', 'Crime Code Description', 'Status']\n",
        "target_col = None\n",
        "for col in potential_targets:\n",
        "    if col in df_clean.columns:\n",
        "        target_col = col\n",
        "        break\n",
        "\n",
        "if target_col is None:\n",
        "    # Use the first categorical column with reasonable number of classes\n",
        "    for col in categorical_cols:\n",
        "        n_unique = df_clean[col].nunique()\n",
        "        if 2 <= n_unique <= 50:\n",
        "            target_col = col\n",
        "            break\n",
        "\n",
        "print(f\"\\nTarget variable: {target_col}\")\n",
        "print(f\"Target classes: {df_clean[target_col].nunique()}\")\n",
        "print(f\"\\nTop 10 target values:\\n{df_clean[target_col].value_counts().head(10)}\")\n",
        "\n",
        "# Limit to top N classes for better training\n",
        "TOP_N_CLASSES = 10\n",
        "top_classes = df_clean[target_col].value_counts().head(TOP_N_CLASSES).index\n",
        "df_model = df_clean[df_clean[target_col].isin(top_classes)].copy()\n",
        "\n",
        "print(f\"\\nFiltered to top {TOP_N_CLASSES} classes. New shape: {df_model.shape}\")\n",
        "\n",
        "# Prepare features\n",
        "feature_cols = [col for col in df_model.columns if col != target_col]\n",
        "\n",
        "# Encode categorical features\n",
        "le_dict = {}\n",
        "X_encoded = df_model[feature_cols].copy()\n",
        "\n",
        "for col in X_encoded.select_dtypes(include=['object']).columns:\n",
        "    le = LabelEncoder()\n",
        "    X_encoded[col] = le.fit_transform(X_encoded[col].astype(str))\n",
        "    le_dict[col] = le"
      ],
      "metadata": {
        "colab": {
          "base_uri": "https://localhost:8080/"
        },
        "id": "s_w-XFlXtZw0",
        "outputId": "27aedb92-7911-4813-84e2-b3042293e9a5"
      },
      "execution_count": null,
      "outputs": [
        {
          "output_type": "stream",
          "name": "stdout",
          "text": [
            "\n",
            "================================================================================\n",
            "FEATURE ENGINEERING\n",
            "================================================================================\n",
            "\n",
            "Categorical columns: 9\n",
            "Numeric columns: 10\n",
            "\n",
            "Target variable: Crm Cd Desc\n",
            "Target classes: 138\n",
            "\n",
            "Top 10 target values:\n",
            "Crm Cd Desc\n",
            "VEHICLE - STOLEN                                           76600\n",
            "BATTERY - SIMPLE ASSAULT                                   56745\n",
            "THEFT OF IDENTITY                                          47044\n",
            "BURGLARY FROM VEHICLE                                      45079\n",
            "VANDALISM - FELONY ($400 & OVER, ALL CHURCH VANDALISMS)    44114\n",
            "BURGLARY                                                   44037\n",
            "ASSAULT WITH DEADLY WEAPON, AGGRAVATED ASSAULT             41279\n",
            "THEFT PLAIN - PETTY ($950 & UNDER)                         37047\n",
            "INTIMATE PARTNER - SIMPLE ASSAULT                          35822\n",
            "THEFT FROM MOTOR VEHICLE - PETTY ($950 & UNDER)            28128\n",
            "Name: count, dtype: int64\n",
            "\n",
            "Filtered to top 10 classes. New shape: (455895, 22)\n"
          ]
        }
      ]
    },
    {
      "cell_type": "code",
      "source": [
        "# Handle datetime columns\n",
        "for col in X_encoded.columns:\n",
        "    if pd.api.types.is_datetime64_any_dtype(X_encoded[col]):\n",
        "        X_encoded[f'{col}_year'] = X_encoded[col].dt.year\n",
        "        X_encoded[f'{col}_month'] = X_encoded[col].dt.month\n",
        "        X_encoded[f'{col}_day'] = X_encoded[col].dt.day\n",
        "        X_encoded[f'{col}_hour'] = X_encoded[col].dt.hour\n",
        "        X_encoded = X_encoded.drop(col, axis=1)\n",
        "\n",
        "# Encode target variable\n",
        "le_target = LabelEncoder()\n",
        "y_encoded = le_target.fit_transform(df_model[target_col])\n",
        "\n",
        "print(f\"\\nFeature matrix shape: {X_encoded.shape}\")\n",
        "print(f\"Target shape: {y_encoded.shape}\")"
      ],
      "metadata": {
        "colab": {
          "base_uri": "https://localhost:8080/"
        },
        "id": "0mkEf48Etpum",
        "outputId": "6f48f833-38a3-4c2f-f4d3-86b28db09ad0"
      },
      "execution_count": null,
      "outputs": [
        {
          "output_type": "stream",
          "name": "stdout",
          "text": [
            "\n",
            "Feature matrix shape: (455895, 30)\n",
            "Target shape: (455895,)\n"
          ]
        }
      ]
    },
    {
      "cell_type": "code",
      "source": [
        "# Split the data\n",
        "X_train, X_test, y_train, y_test = train_test_split(\n",
        "    X_encoded, y_encoded, test_size=0.2, random_state=42, stratify=y_encoded\n",
        ")"
      ],
      "metadata": {
        "id": "TXtE5pLqtrHP"
      },
      "execution_count": null,
      "outputs": []
    },
    {
      "cell_type": "code",
      "source": [
        "# Scale features\n",
        "scaler = StandardScaler()\n",
        "X_train_scaled = scaler.fit_transform(X_train)\n",
        "X_test_scaled = scaler.transform(X_test)\n",
        "\n",
        "print(f\"\\nTraining set size: {X_train_scaled.shape}\")\n",
        "print(f\"Test set size: {X_test_scaled.shape}\")\n"
      ],
      "metadata": {
        "colab": {
          "base_uri": "https://localhost:8080/"
        },
        "id": "z6uyIUtZtvFQ",
        "outputId": "e211ca91-4a5a-4e34-9bfd-fd1c5cf1f1eb"
      },
      "execution_count": null,
      "outputs": [
        {
          "output_type": "stream",
          "name": "stdout",
          "text": [
            "\n",
            "Training set size: (364716, 30)\n",
            "Test set size: (91179, 30)\n"
          ]
        }
      ]
    },
    {
      "cell_type": "code",
      "source": [
        "print(\"\\n\" + \"=\"*80)\n",
        "print(\"BUILDING ARTIFICIAL NEURAL NETWORK\")\n",
        "print(\"=\"*80)\n",
        "\n",
        "# Build ANN model\n",
        "n_features = X_train_scaled.shape[1]\n",
        "n_classes = len(np.unique(y_encoded))\n",
        "\n",
        "model = keras.Sequential([\n",
        "    layers.Input(shape=(n_features,)),\n",
        "    layers.Dense(128, activation='relu'),\n",
        "    layers.Dropout(0.3),\n",
        "    layers.Dense(64, activation='relu'),\n",
        "    layers.Dropout(0.2),\n",
        "    layers.Dense(32, activation='relu'),\n",
        "    layers.Dropout(0.1),\n",
        "    layers.Dense(n_classes, activation='softmax')\n",
        "])\n",
        "\n",
        "model.compile(\n",
        "    optimizer='adam',\n",
        "    loss='sparse_categorical_crossentropy',\n",
        "    metrics=['accuracy']\n",
        ")\n",
        "\n",
        "print(model.summary())\n",
        "\n"
      ],
      "metadata": {
        "colab": {
          "base_uri": "https://localhost:8080/",
          "height": 444
        },
        "id": "8ulppqKjtzGy",
        "outputId": "09d43691-9ae2-4b95-c4bd-4579e72f6ea2"
      },
      "execution_count": null,
      "outputs": [
        {
          "output_type": "stream",
          "name": "stdout",
          "text": [
            "\n",
            "================================================================================\n",
            "BUILDING ARTIFICIAL NEURAL NETWORK\n",
            "================================================================================\n"
          ]
        },
        {
          "output_type": "display_data",
          "data": {
            "text/plain": [
              "\u001b[1mModel: \"sequential\"\u001b[0m\n"
            ],
            "text/html": [
              "<pre style=\"white-space:pre;overflow-x:auto;line-height:normal;font-family:Menlo,'DejaVu Sans Mono',consolas,'Courier New',monospace\"><span style=\"font-weight: bold\">Model: \"sequential\"</span>\n",
              "</pre>\n"
            ]
          },
          "metadata": {}
        },
        {
          "output_type": "display_data",
          "data": {
            "text/plain": [
              "┏━━━━━━━━━━━━━━━━━━━━━━━━━━━━━━━━━┳━━━━━━━━━━━━━━━━━━━━━━━━┳━━━━━━━━━━━━━━━┓\n",
              "┃\u001b[1m \u001b[0m\u001b[1mLayer (type)                   \u001b[0m\u001b[1m \u001b[0m┃\u001b[1m \u001b[0m\u001b[1mOutput Shape          \u001b[0m\u001b[1m \u001b[0m┃\u001b[1m \u001b[0m\u001b[1m      Param #\u001b[0m\u001b[1m \u001b[0m┃\n",
              "┡━━━━━━━━━━━━━━━━━━━━━━━━━━━━━━━━━╇━━━━━━━━━━━━━━━━━━━━━━━━╇━━━━━━━━━━━━━━━┩\n",
              "│ dense (\u001b[38;5;33mDense\u001b[0m)                   │ (\u001b[38;5;45mNone\u001b[0m, \u001b[38;5;34m128\u001b[0m)            │         \u001b[38;5;34m3,968\u001b[0m │\n",
              "├─────────────────────────────────┼────────────────────────┼───────────────┤\n",
              "│ dropout (\u001b[38;5;33mDropout\u001b[0m)               │ (\u001b[38;5;45mNone\u001b[0m, \u001b[38;5;34m128\u001b[0m)            │             \u001b[38;5;34m0\u001b[0m │\n",
              "├─────────────────────────────────┼────────────────────────┼───────────────┤\n",
              "│ dense_1 (\u001b[38;5;33mDense\u001b[0m)                 │ (\u001b[38;5;45mNone\u001b[0m, \u001b[38;5;34m64\u001b[0m)             │         \u001b[38;5;34m8,256\u001b[0m │\n",
              "├─────────────────────────────────┼────────────────────────┼───────────────┤\n",
              "│ dropout_1 (\u001b[38;5;33mDropout\u001b[0m)             │ (\u001b[38;5;45mNone\u001b[0m, \u001b[38;5;34m64\u001b[0m)             │             \u001b[38;5;34m0\u001b[0m │\n",
              "├─────────────────────────────────┼────────────────────────┼───────────────┤\n",
              "│ dense_2 (\u001b[38;5;33mDense\u001b[0m)                 │ (\u001b[38;5;45mNone\u001b[0m, \u001b[38;5;34m32\u001b[0m)             │         \u001b[38;5;34m2,080\u001b[0m │\n",
              "├─────────────────────────────────┼────────────────────────┼───────────────┤\n",
              "│ dropout_2 (\u001b[38;5;33mDropout\u001b[0m)             │ (\u001b[38;5;45mNone\u001b[0m, \u001b[38;5;34m32\u001b[0m)             │             \u001b[38;5;34m0\u001b[0m │\n",
              "├─────────────────────────────────┼────────────────────────┼───────────────┤\n",
              "│ dense_3 (\u001b[38;5;33mDense\u001b[0m)                 │ (\u001b[38;5;45mNone\u001b[0m, \u001b[38;5;34m10\u001b[0m)             │           \u001b[38;5;34m330\u001b[0m │\n",
              "└─────────────────────────────────┴────────────────────────┴───────────────┘\n"
            ],
            "text/html": [
              "<pre style=\"white-space:pre;overflow-x:auto;line-height:normal;font-family:Menlo,'DejaVu Sans Mono',consolas,'Courier New',monospace\">┏━━━━━━━━━━━━━━━━━━━━━━━━━━━━━━━━━┳━━━━━━━━━━━━━━━━━━━━━━━━┳━━━━━━━━━━━━━━━┓\n",
              "┃<span style=\"font-weight: bold\"> Layer (type)                    </span>┃<span style=\"font-weight: bold\"> Output Shape           </span>┃<span style=\"font-weight: bold\">       Param # </span>┃\n",
              "┡━━━━━━━━━━━━━━━━━━━━━━━━━━━━━━━━━╇━━━━━━━━━━━━━━━━━━━━━━━━╇━━━━━━━━━━━━━━━┩\n",
              "│ dense (<span style=\"color: #0087ff; text-decoration-color: #0087ff\">Dense</span>)                   │ (<span style=\"color: #00d7ff; text-decoration-color: #00d7ff\">None</span>, <span style=\"color: #00af00; text-decoration-color: #00af00\">128</span>)            │         <span style=\"color: #00af00; text-decoration-color: #00af00\">3,968</span> │\n",
              "├─────────────────────────────────┼────────────────────────┼───────────────┤\n",
              "│ dropout (<span style=\"color: #0087ff; text-decoration-color: #0087ff\">Dropout</span>)               │ (<span style=\"color: #00d7ff; text-decoration-color: #00d7ff\">None</span>, <span style=\"color: #00af00; text-decoration-color: #00af00\">128</span>)            │             <span style=\"color: #00af00; text-decoration-color: #00af00\">0</span> │\n",
              "├─────────────────────────────────┼────────────────────────┼───────────────┤\n",
              "│ dense_1 (<span style=\"color: #0087ff; text-decoration-color: #0087ff\">Dense</span>)                 │ (<span style=\"color: #00d7ff; text-decoration-color: #00d7ff\">None</span>, <span style=\"color: #00af00; text-decoration-color: #00af00\">64</span>)             │         <span style=\"color: #00af00; text-decoration-color: #00af00\">8,256</span> │\n",
              "├─────────────────────────────────┼────────────────────────┼───────────────┤\n",
              "│ dropout_1 (<span style=\"color: #0087ff; text-decoration-color: #0087ff\">Dropout</span>)             │ (<span style=\"color: #00d7ff; text-decoration-color: #00d7ff\">None</span>, <span style=\"color: #00af00; text-decoration-color: #00af00\">64</span>)             │             <span style=\"color: #00af00; text-decoration-color: #00af00\">0</span> │\n",
              "├─────────────────────────────────┼────────────────────────┼───────────────┤\n",
              "│ dense_2 (<span style=\"color: #0087ff; text-decoration-color: #0087ff\">Dense</span>)                 │ (<span style=\"color: #00d7ff; text-decoration-color: #00d7ff\">None</span>, <span style=\"color: #00af00; text-decoration-color: #00af00\">32</span>)             │         <span style=\"color: #00af00; text-decoration-color: #00af00\">2,080</span> │\n",
              "├─────────────────────────────────┼────────────────────────┼───────────────┤\n",
              "│ dropout_2 (<span style=\"color: #0087ff; text-decoration-color: #0087ff\">Dropout</span>)             │ (<span style=\"color: #00d7ff; text-decoration-color: #00d7ff\">None</span>, <span style=\"color: #00af00; text-decoration-color: #00af00\">32</span>)             │             <span style=\"color: #00af00; text-decoration-color: #00af00\">0</span> │\n",
              "├─────────────────────────────────┼────────────────────────┼───────────────┤\n",
              "│ dense_3 (<span style=\"color: #0087ff; text-decoration-color: #0087ff\">Dense</span>)                 │ (<span style=\"color: #00d7ff; text-decoration-color: #00d7ff\">None</span>, <span style=\"color: #00af00; text-decoration-color: #00af00\">10</span>)             │           <span style=\"color: #00af00; text-decoration-color: #00af00\">330</span> │\n",
              "└─────────────────────────────────┴────────────────────────┴───────────────┘\n",
              "</pre>\n"
            ]
          },
          "metadata": {}
        },
        {
          "output_type": "display_data",
          "data": {
            "text/plain": [
              "\u001b[1m Total params: \u001b[0m\u001b[38;5;34m14,634\u001b[0m (57.16 KB)\n"
            ],
            "text/html": [
              "<pre style=\"white-space:pre;overflow-x:auto;line-height:normal;font-family:Menlo,'DejaVu Sans Mono',consolas,'Courier New',monospace\"><span style=\"font-weight: bold\"> Total params: </span><span style=\"color: #00af00; text-decoration-color: #00af00\">14,634</span> (57.16 KB)\n",
              "</pre>\n"
            ]
          },
          "metadata": {}
        },
        {
          "output_type": "display_data",
          "data": {
            "text/plain": [
              "\u001b[1m Trainable params: \u001b[0m\u001b[38;5;34m14,634\u001b[0m (57.16 KB)\n"
            ],
            "text/html": [
              "<pre style=\"white-space:pre;overflow-x:auto;line-height:normal;font-family:Menlo,'DejaVu Sans Mono',consolas,'Courier New',monospace\"><span style=\"font-weight: bold\"> Trainable params: </span><span style=\"color: #00af00; text-decoration-color: #00af00\">14,634</span> (57.16 KB)\n",
              "</pre>\n"
            ]
          },
          "metadata": {}
        },
        {
          "output_type": "display_data",
          "data": {
            "text/plain": [
              "\u001b[1m Non-trainable params: \u001b[0m\u001b[38;5;34m0\u001b[0m (0.00 B)\n"
            ],
            "text/html": [
              "<pre style=\"white-space:pre;overflow-x:auto;line-height:normal;font-family:Menlo,'DejaVu Sans Mono',consolas,'Courier New',monospace\"><span style=\"font-weight: bold\"> Non-trainable params: </span><span style=\"color: #00af00; text-decoration-color: #00af00\">0</span> (0.00 B)\n",
              "</pre>\n"
            ]
          },
          "metadata": {}
        },
        {
          "output_type": "stream",
          "name": "stdout",
          "text": [
            "None\n"
          ]
        }
      ]
    },
    {
      "cell_type": "code",
      "source": [
        "# Train the model\n",
        "print(\"\\nTraining the model...\")\n",
        "history = model.fit(\n",
        "    X_train_scaled, y_train,\n",
        "    epochs=50,\n",
        "    batch_size=128,\n",
        "    validation_split=0.2,\n",
        "    verbose=1,\n",
        "    callbacks=[\n",
        "        keras.callbacks.EarlyStopping(monitor='val_loss', patience=5, restore_best_weights=True)\n",
        "    ]\n",
        ")\n",
        "\n"
      ],
      "metadata": {
        "colab": {
          "base_uri": "https://localhost:8080/"
        },
        "id": "SvYmpjOYuDDW",
        "outputId": "c170c776-dbd8-4cca-9e1f-f6c20a46e975"
      },
      "execution_count": null,
      "outputs": [
        {
          "output_type": "stream",
          "name": "stdout",
          "text": [
            "\n",
            "Training the model...\n",
            "Epoch 1/50\n",
            "\u001b[1m2280/2280\u001b[0m \u001b[32m━━━━━━━━━━━━━━━━━━━━\u001b[0m\u001b[37m\u001b[0m \u001b[1m5s\u001b[0m 2ms/step - accuracy: 0.7658 - loss: 0.6122 - val_accuracy: 0.9587 - val_loss: 0.0930\n",
            "Epoch 2/50\n",
            "\u001b[1m2280/2280\u001b[0m \u001b[32m━━━━━━━━━━━━━━━━━━━━\u001b[0m\u001b[37m\u001b[0m \u001b[1m5s\u001b[0m 2ms/step - accuracy: 0.9509 - loss: 0.1161 - val_accuracy: 0.9639 - val_loss: 0.0813\n",
            "Epoch 3/50\n",
            "\u001b[1m2280/2280\u001b[0m \u001b[32m━━━━━━━━━━━━━━━━━━━━\u001b[0m\u001b[37m\u001b[0m \u001b[1m4s\u001b[0m 2ms/step - accuracy: 0.9601 - loss: 0.0929 - val_accuracy: 0.9672 - val_loss: 0.0747\n",
            "Epoch 4/50\n",
            "\u001b[1m2280/2280\u001b[0m \u001b[32m━━━━━━━━━━━━━━━━━━━━\u001b[0m\u001b[37m\u001b[0m \u001b[1m5s\u001b[0m 2ms/step - accuracy: 0.9631 - loss: 0.0863 - val_accuracy: 0.9689 - val_loss: 0.0719\n",
            "Epoch 5/50\n",
            "\u001b[1m2280/2280\u001b[0m \u001b[32m━━━━━━━━━━━━━━━━━━━━\u001b[0m\u001b[37m\u001b[0m \u001b[1m4s\u001b[0m 2ms/step - accuracy: 0.9649 - loss: 0.0827 - val_accuracy: 0.9705 - val_loss: 0.0694\n",
            "Epoch 6/50\n",
            "\u001b[1m2280/2280\u001b[0m \u001b[32m━━━━━━━━━━━━━━━━━━━━\u001b[0m\u001b[37m\u001b[0m \u001b[1m5s\u001b[0m 2ms/step - accuracy: 0.9660 - loss: 0.0798 - val_accuracy: 0.9724 - val_loss: 0.0652\n",
            "Epoch 7/50\n",
            "\u001b[1m2280/2280\u001b[0m \u001b[32m━━━━━━━━━━━━━━━━━━━━\u001b[0m\u001b[37m\u001b[0m \u001b[1m5s\u001b[0m 2ms/step - accuracy: 0.9672 - loss: 0.0766 - val_accuracy: 0.9693 - val_loss: 0.0670\n",
            "Epoch 8/50\n",
            "\u001b[1m2280/2280\u001b[0m \u001b[32m━━━━━━━━━━━━━━━━━━━━\u001b[0m\u001b[37m\u001b[0m \u001b[1m4s\u001b[0m 2ms/step - accuracy: 0.9686 - loss: 0.0737 - val_accuracy: 0.9725 - val_loss: 0.0631\n",
            "Epoch 9/50\n",
            "\u001b[1m2280/2280\u001b[0m \u001b[32m━━━━━━━━━━━━━━━━━━━━\u001b[0m\u001b[37m\u001b[0m \u001b[1m5s\u001b[0m 2ms/step - accuracy: 0.9713 - loss: 0.0687 - val_accuracy: 0.9846 - val_loss: 0.0442\n",
            "Epoch 10/50\n",
            "\u001b[1m2280/2280\u001b[0m \u001b[32m━━━━━━━━━━━━━━━━━━━━\u001b[0m\u001b[37m\u001b[0m \u001b[1m4s\u001b[0m 2ms/step - accuracy: 0.9728 - loss: 0.0656 - val_accuracy: 0.9811 - val_loss: 0.0468\n",
            "Epoch 11/50\n",
            "\u001b[1m2280/2280\u001b[0m \u001b[32m━━━━━━━━━━━━━━━━━━━━\u001b[0m\u001b[37m\u001b[0m \u001b[1m4s\u001b[0m 2ms/step - accuracy: 0.9756 - loss: 0.0600 - val_accuracy: 0.9838 - val_loss: 0.0419\n",
            "Epoch 12/50\n",
            "\u001b[1m2280/2280\u001b[0m \u001b[32m━━━━━━━━━━━━━━━━━━━━\u001b[0m\u001b[37m\u001b[0m \u001b[1m5s\u001b[0m 2ms/step - accuracy: 0.9769 - loss: 0.0574 - val_accuracy: 0.9873 - val_loss: 0.0348\n",
            "Epoch 13/50\n",
            "\u001b[1m2280/2280\u001b[0m \u001b[32m━━━━━━━━━━━━━━━━━━━━\u001b[0m\u001b[37m\u001b[0m \u001b[1m4s\u001b[0m 2ms/step - accuracy: 0.9791 - loss: 0.0530 - val_accuracy: 0.9901 - val_loss: 0.0281\n",
            "Epoch 14/50\n",
            "\u001b[1m2280/2280\u001b[0m \u001b[32m━━━━━━━━━━━━━━━━━━━━\u001b[0m\u001b[37m\u001b[0m \u001b[1m5s\u001b[0m 2ms/step - accuracy: 0.9810 - loss: 0.0494 - val_accuracy: 0.9838 - val_loss: 0.0398\n",
            "Epoch 15/50\n",
            "\u001b[1m2280/2280\u001b[0m \u001b[32m━━━━━━━━━━━━━━━━━━━━\u001b[0m\u001b[37m\u001b[0m \u001b[1m5s\u001b[0m 2ms/step - accuracy: 0.9813 - loss: 0.0480 - val_accuracy: 0.9921 - val_loss: 0.0249\n",
            "Epoch 16/50\n",
            "\u001b[1m2280/2280\u001b[0m \u001b[32m━━━━━━━━━━━━━━━━━━━━\u001b[0m\u001b[37m\u001b[0m \u001b[1m5s\u001b[0m 2ms/step - accuracy: 0.9821 - loss: 0.0471 - val_accuracy: 0.9897 - val_loss: 0.0276\n",
            "Epoch 17/50\n",
            "\u001b[1m2280/2280\u001b[0m \u001b[32m━━━━━━━━━━━━━━━━━━━━\u001b[0m\u001b[37m\u001b[0m \u001b[1m5s\u001b[0m 2ms/step - accuracy: 0.9833 - loss: 0.0448 - val_accuracy: 0.9926 - val_loss: 0.0219\n",
            "Epoch 18/50\n",
            "\u001b[1m2280/2280\u001b[0m \u001b[32m━━━━━━━━━━━━━━━━━━━━\u001b[0m\u001b[37m\u001b[0m \u001b[1m4s\u001b[0m 2ms/step - accuracy: 0.9840 - loss: 0.0424 - val_accuracy: 0.9856 - val_loss: 0.0347\n",
            "Epoch 19/50\n",
            "\u001b[1m2280/2280\u001b[0m \u001b[32m━━━━━━━━━━━━━━━━━━━━\u001b[0m\u001b[37m\u001b[0m \u001b[1m5s\u001b[0m 2ms/step - accuracy: 0.9854 - loss: 0.0385 - val_accuracy: 0.9950 - val_loss: 0.0152\n",
            "Epoch 20/50\n",
            "\u001b[1m2280/2280\u001b[0m \u001b[32m━━━━━━━━━━━━━━━━━━━━\u001b[0m\u001b[37m\u001b[0m \u001b[1m5s\u001b[0m 2ms/step - accuracy: 0.9847 - loss: 0.0404 - val_accuracy: 0.9873 - val_loss: 0.0339\n",
            "Epoch 21/50\n",
            "\u001b[1m2280/2280\u001b[0m \u001b[32m━━━━━━━━━━━━━━━━━━━━\u001b[0m\u001b[37m\u001b[0m \u001b[1m5s\u001b[0m 2ms/step - accuracy: 0.9859 - loss: 0.0377 - val_accuracy: 0.9933 - val_loss: 0.0223\n",
            "Epoch 22/50\n",
            "\u001b[1m2280/2280\u001b[0m \u001b[32m━━━━━━━━━━━━━━━━━━━━\u001b[0m\u001b[37m\u001b[0m \u001b[1m4s\u001b[0m 2ms/step - accuracy: 0.9857 - loss: 0.0385 - val_accuracy: 0.9968 - val_loss: 0.0130\n",
            "Epoch 23/50\n",
            "\u001b[1m2280/2280\u001b[0m \u001b[32m━━━━━━━━━━━━━━━━━━━━\u001b[0m\u001b[37m\u001b[0m \u001b[1m4s\u001b[0m 2ms/step - accuracy: 0.9858 - loss: 0.0374 - val_accuracy: 0.9950 - val_loss: 0.0161\n",
            "Epoch 24/50\n",
            "\u001b[1m2280/2280\u001b[0m \u001b[32m━━━━━━━━━━━━━━━━━━━━\u001b[0m\u001b[37m\u001b[0m \u001b[1m5s\u001b[0m 2ms/step - accuracy: 0.9862 - loss: 0.0369 - val_accuracy: 0.9973 - val_loss: 0.0109\n",
            "Epoch 25/50\n",
            "\u001b[1m2280/2280\u001b[0m \u001b[32m━━━━━━━━━━━━━━━━━━━━\u001b[0m\u001b[37m\u001b[0m \u001b[1m4s\u001b[0m 2ms/step - accuracy: 0.9854 - loss: 0.0388 - val_accuracy: 0.9944 - val_loss: 0.0159\n",
            "Epoch 26/50\n",
            "\u001b[1m2280/2280\u001b[0m \u001b[32m━━━━━━━━━━━━━━━━━━━━\u001b[0m\u001b[37m\u001b[0m \u001b[1m5s\u001b[0m 2ms/step - accuracy: 0.9879 - loss: 0.0326 - val_accuracy: 0.9897 - val_loss: 0.0240\n",
            "Epoch 27/50\n",
            "\u001b[1m2280/2280\u001b[0m \u001b[32m━━━━━━━━━━━━━━━━━━━━\u001b[0m\u001b[37m\u001b[0m \u001b[1m4s\u001b[0m 2ms/step - accuracy: 0.9873 - loss: 0.0352 - val_accuracy: 0.9952 - val_loss: 0.0134\n",
            "Epoch 28/50\n",
            "\u001b[1m2280/2280\u001b[0m \u001b[32m━━━━━━━━━━━━━━━━━━━━\u001b[0m\u001b[37m\u001b[0m \u001b[1m4s\u001b[0m 2ms/step - accuracy: 0.9888 - loss: 0.0315 - val_accuracy: 0.9967 - val_loss: 0.0136\n",
            "Epoch 29/50\n",
            "\u001b[1m2280/2280\u001b[0m \u001b[32m━━━━━━━━━━━━━━━━━━━━\u001b[0m\u001b[37m\u001b[0m \u001b[1m5s\u001b[0m 2ms/step - accuracy: 0.9880 - loss: 0.0321 - val_accuracy: 0.9979 - val_loss: 0.0097\n",
            "Epoch 30/50\n",
            "\u001b[1m2280/2280\u001b[0m \u001b[32m━━━━━━━━━━━━━━━━━━━━\u001b[0m\u001b[37m\u001b[0m \u001b[1m4s\u001b[0m 2ms/step - accuracy: 0.9886 - loss: 0.0318 - val_accuracy: 0.9972 - val_loss: 0.0115\n",
            "Epoch 31/50\n",
            "\u001b[1m2280/2280\u001b[0m \u001b[32m━━━━━━━━━━━━━━━━━━━━\u001b[0m\u001b[37m\u001b[0m \u001b[1m5s\u001b[0m 2ms/step - accuracy: 0.9882 - loss: 0.0322 - val_accuracy: 0.9993 - val_loss: 0.0047\n",
            "Epoch 32/50\n",
            "\u001b[1m2280/2280\u001b[0m \u001b[32m━━━━━━━━━━━━━━━━━━━━\u001b[0m\u001b[37m\u001b[0m \u001b[1m4s\u001b[0m 2ms/step - accuracy: 0.9884 - loss: 0.0310 - val_accuracy: 0.9974 - val_loss: 0.0093\n",
            "Epoch 33/50\n",
            "\u001b[1m2280/2280\u001b[0m \u001b[32m━━━━━━━━━━━━━━━━━━━━\u001b[0m\u001b[37m\u001b[0m \u001b[1m5s\u001b[0m 2ms/step - accuracy: 0.9886 - loss: 0.0314 - val_accuracy: 0.9971 - val_loss: 0.0110\n",
            "Epoch 34/50\n",
            "\u001b[1m2280/2280\u001b[0m \u001b[32m━━━━━━━━━━━━━━━━━━━━\u001b[0m\u001b[37m\u001b[0m \u001b[1m5s\u001b[0m 2ms/step - accuracy: 0.9896 - loss: 0.0288 - val_accuracy: 0.9973 - val_loss: 0.0119\n",
            "Epoch 35/50\n",
            "\u001b[1m2280/2280\u001b[0m \u001b[32m━━━━━━━━━━━━━━━━━━━━\u001b[0m\u001b[37m\u001b[0m \u001b[1m4s\u001b[0m 2ms/step - accuracy: 0.9901 - loss: 0.0276 - val_accuracy: 0.9964 - val_loss: 0.0114\n",
            "Epoch 36/50\n",
            "\u001b[1m2280/2280\u001b[0m \u001b[32m━━━━━━━━━━━━━━━━━━━━\u001b[0m\u001b[37m\u001b[0m \u001b[1m5s\u001b[0m 2ms/step - accuracy: 0.9890 - loss: 0.0300 - val_accuracy: 0.9988 - val_loss: 0.0061\n"
          ]
        }
      ]
    },
    {
      "cell_type": "code",
      "source": [
        "# ============================================================================\n",
        "# EVALUATE MODEL\n",
        "# ============================================================================\n",
        "print(\"\\n\" + \"=\"*80)\n",
        "print(\"MODEL EVALUATION\")\n",
        "print(\"=\"*80)\n",
        "\n",
        "# Predictions\n",
        "y_pred = model.predict(X_test_scaled)\n",
        "y_pred_classes = np.argmax(y_pred, axis=1)\n",
        "\n",
        "# Metrics\n",
        "accuracy = accuracy_score(y_test, y_pred_classes)\n",
        "print(f\"\\nTest Accuracy: {accuracy:.4f}\")\n",
        "\n",
        "print(\"\\nClassification Report:\")\n",
        "print(classification_report(y_test, y_pred_classes,\n",
        "                          target_names=le_target.classes_[:n_classes]))\n",
        "\n",
        "\n"
      ],
      "metadata": {
        "colab": {
          "base_uri": "https://localhost:8080/"
        },
        "id": "ihBw2c8QvQPI",
        "outputId": "6000fad0-c416-48a7-be8c-4ff24798ef2f"
      },
      "execution_count": null,
      "outputs": [
        {
          "output_type": "stream",
          "name": "stdout",
          "text": [
            "\n",
            "================================================================================\n",
            "MODEL EVALUATION\n",
            "================================================================================\n",
            "\u001b[1m2850/2850\u001b[0m \u001b[32m━━━━━━━━━━━━━━━━━━━━\u001b[0m\u001b[37m\u001b[0m \u001b[1m2s\u001b[0m 678us/step\n",
            "\n",
            "Test Accuracy: 0.9993\n",
            "\n",
            "Classification Report:\n",
            "                                                         precision    recall  f1-score   support\n",
            "\n",
            "         ASSAULT WITH DEADLY WEAPON, AGGRAVATED ASSAULT       1.00      1.00      1.00      8256\n",
            "                               BATTERY - SIMPLE ASSAULT       1.00      1.00      1.00     11349\n",
            "                                               BURGLARY       1.00      1.00      1.00      8807\n",
            "                                  BURGLARY FROM VEHICLE       1.00      1.00      1.00      9016\n",
            "                      INTIMATE PARTNER - SIMPLE ASSAULT       1.00      0.99      1.00      7164\n",
            "        THEFT FROM MOTOR VEHICLE - PETTY ($950 & UNDER)       1.00      1.00      1.00      5626\n",
            "                                      THEFT OF IDENTITY       1.00      1.00      1.00      9409\n",
            "                     THEFT PLAIN - PETTY ($950 & UNDER)       1.00      1.00      1.00      7409\n",
            "VANDALISM - FELONY ($400 & OVER, ALL CHURCH VANDALISMS)       1.00      1.00      1.00      8823\n",
            "                                       VEHICLE - STOLEN       1.00      1.00      1.00     15320\n",
            "\n",
            "                                               accuracy                           1.00     91179\n",
            "                                              macro avg       1.00      1.00      1.00     91179\n",
            "                                           weighted avg       1.00      1.00      1.00     91179\n",
            "\n"
          ]
        }
      ]
    },
    {
      "cell_type": "code",
      "source": [
        "\n",
        "# VISUALIZATIONS\n",
        "# ============================================================================\n",
        "print(\"\\nGenerating visualizations...\")\n",
        "\n",
        "fig = plt.figure(figsize=(16, 12))\n",
        "\n",
        "# 1. Training history\n",
        "ax1 = plt.subplot(2, 3, 1)\n",
        "plt.plot(history.history['accuracy'], label='Training Accuracy')\n",
        "plt.plot(history.history['val_accuracy'], label='Validation Accuracy')\n",
        "plt.title('Model Accuracy Over Epochs')\n",
        "plt.xlabel('Epoch')\n",
        "plt.ylabel('Accuracy')\n",
        "plt.legend()\n",
        "plt.grid(True, alpha=0.3)\n",
        "\n",
        "# 2. Loss history\n",
        "ax2 = plt.subplot(2, 3, 2)\n",
        "plt.plot(history.history['loss'], label='Training Loss')\n",
        "plt.plot(history.history['val_loss'], label='Validation Loss')\n",
        "plt.title('Model Loss Over Epochs')\n",
        "plt.xlabel('Epoch')\n",
        "plt.ylabel('Loss')\n",
        "plt.legend()\n",
        "plt.grid(True, alpha=0.3)\n",
        "\n",
        "# 3. Confusion Matrix\n",
        "ax3 = plt.subplot(2, 3, 3)\n",
        "cm = confusion_matrix(y_test, y_pred_classes)\n",
        "sns.heatmap(cm, annot=True, fmt='d', cmap='Blues', cbar=True)\n",
        "plt.title('Confusion Matrix')\n",
        "plt.xlabel('Predicted')\n",
        "plt.ylabel('Actual')\n",
        "\n",
        "# 4. Target distribution\n",
        "ax4 = plt.subplot(2, 3, 4)\n",
        "target_counts = df_model[target_col].value_counts()\n",
        "plt.barh(range(len(target_counts)), target_counts.values)\n",
        "plt.yticks(range(len(target_counts)), target_counts.index, fontsize=8)\n",
        "plt.xlabel('Count')\n",
        "plt.title('Target Variable Distribution')\n",
        "plt.tight_layout()"
      ],
      "metadata": {
        "colab": {
          "base_uri": "https://localhost:8080/",
          "height": 1000
        },
        "id": "ij_qoRSavuiD",
        "outputId": "8299b100-c95a-4811-f7a0-2f5ece7aa592"
      },
      "execution_count": null,
      "outputs": [
        {
          "output_type": "stream",
          "name": "stdout",
          "text": [
            "\n",
            "Generating visualizations...\n"
          ]
        },
        {
          "output_type": "display_data",
          "data": {
            "text/plain": [
              "<Figure size 1600x1200 with 5 Axes>"
            ],
            "image/png": "[encoded data removed]"
          },
          "metadata": {}
        }
      ]
    },
    {
      "cell_type": "code",
      "source": [
        "# 5. Feature importance (using permutation importance approximation)\n",
        "ax5 = plt.subplot(2, 3, 5)\n",
        "baseline_accuracy = accuracy\n",
        "importances = []\n",
        "for i in range(min(10, X_test_scaled.shape[1])):\n",
        "    X_test_permuted = X_test_scaled.copy()\n",
        "    np.random.shuffle(X_test_permuted[:, i])\n",
        "    y_pred_permuted = model.predict(X_test_permuted, verbose=0)\n",
        "    y_pred_classes_permuted = np.argmax(y_pred_permuted, axis=1)\n",
        "    permuted_accuracy = accuracy_score(y_test, y_pred_classes_permuted)\n",
        "    importance = baseline_accuracy - permuted_accuracy\n",
        "    importances.append(importance)\n",
        "\n",
        "feature_names = X_encoded.columns[:10]\n",
        "plt.barh(range(len(importances)), importances)\n",
        "plt.yticks(range(len(importances)), feature_names, fontsize=8)\n",
        "plt.xlabel('Importance (Accuracy Drop)')\n",
        "plt.title('Top 10 Feature Importances')\n",
        "\n",
        "# 6. Prediction confidence distribution\n",
        "ax6 = plt.subplot(2, 3, 6)\n",
        "max_probs = np.max(y_pred, axis=1)\n",
        "plt.hist(max_probs, bins=50, edgecolor='black')\n",
        "plt.xlabel('Prediction Confidence')\n",
        "plt.ylabel('Frequency')\n",
        "plt.title('Distribution of Prediction Confidence')\n",
        "plt.grid(True, alpha=0.3)\n",
        "\n",
        "plt.tight_layout()\n",
        "plt.savefig('crime_ann_analysis_results.png', dpi=300, bbox_inches='tight')\n",
        "print(\"\\nVisualization saved as 'crime_ann_analysis_results.png'\")\n",
        "plt.show()\n",
        "\n",
        "# ============================================================================\n",
        "# SAVE MODEL AND RESULTS\n",
        "# ============================================================================\n",
        "print(\"\\n\" + \"=\"*80)\n",
        "print(\"SAVING RESULTS\")\n",
        "print(\"=\"*80)\n",
        "\n",
        "model.save('crime_prediction_ann_model.h5')\n",
        "print(\"\\nModel saved as 'crime_prediction_ann_model.h5'\")\n",
        "\n",
        "# Save cleaned dataset\n",
        "df_clean.to_csv('cleaned_crime_data.csv', index=False)\n",
        "print(\"Cleaned dataset saved as 'cleaned_crime_data.csv'\")\n",
        "\n",
        "# Save results summary\n",
        "results_summary = {\n",
        "    'Model': 'Artificial Neural Network',\n",
        "    'Test Accuracy': accuracy,\n",
        "    'Number of Classes': n_classes,\n",
        "    'Number of Features': n_features,\n",
        "    'Training Samples': len(X_train),\n",
        "    'Test Samples': len(X_test),\n",
        "    'Target Variable': target_col\n",
        "}\n",
        "\n",
        "with open('model_results_summary.txt', 'w') as f:\n",
        "    f.write(\"Crime Data Analysis - ANN Model Results\\n\")\n",
        "    f.write(\"=\"*50 + \"\\n\\n\")\n",
        "    for key, value in results_summary.items():\n",
        "        f.write(f\"{key}: {value}\\n\")\n",
        "    f.write(\"\\n\" + \"=\"*50 + \"\\n\")\n",
        "    f.write(\"Classification Report:\\n\\n\")\n",
        "    f.write(classification_report(y_test, y_pred_classes,\n",
        "                                 target_names=le_target.classes_[:n_classes]))\n",
        "\n",
        "print(\"Results summary saved as 'model_results_summary.txt'\")\n",
        "\n",
        "print(\"\\n\" + \"=\"*80)\n",
        "print(\"ANALYSIS COMPLETE!\")\n",
        "print(\"=\"*80)\n",
        "print(f\"\\nFinal Model Accuracy: {accuracy:.2%}\")\n",
        "print(f\"Model trained on {len(X_train)} samples\")\n",
        "print(f\"Model tested on {len(X_test)} samples\")\n",
        "print(f\"\\nFiles generated:\")\n",
        "print(\"  - crime_prediction_ann_model.h5\")\n",
        "print(\"  - cleaned_crime_data.csv\")\n",
        "print(\"  - crime_ann_analysis_results.png\")\n",
        "print(\"  - model_results_summary.txt\")"
      ],
      "metadata": {
        "colab": {
          "base_uri": "https://localhost:8080/",
          "height": 763
        },
        "id": "hyQAlAsawVhh",
        "outputId": "dcc97faa-be4d-4ea1-8a61-7d81fa65c41b"
      },
      "execution_count": null,
      "outputs": [
        {
          "output_type": "stream",
          "name": "stdout",
          "text": [
            "\n",
            "Visualization saved as 'crime_ann_analysis_results.png'\n"
          ]
        },
        {
          "output_type": "display_data",
          "data": {
            "text/plain": [
              "<Figure size 640x480 with 2 Axes>"
            ],
            "image/png": "[encoded data removed]"
          },
          "metadata": {}
        },
        {
          "output_type": "stream",
          "name": "stderr",
          "text": [
            "WARNING:absl:You are saving your model as an HDF5 file via `model.save()` or `keras.saving.save_model(model)`. This file format is considered legacy. We recommend using instead the native Keras format, e.g. `model.save('my_model.keras')` or `keras.saving.save_model(model, 'my_model.keras')`. \n"
          ]
        },
        {
          "output_type": "stream",
          "name": "stdout",
          "text": [
            "\n",
            "================================================================================\n",
            "SAVING RESULTS\n",
            "================================================================================\n",
            "\n",
            "Model saved as 'crime_prediction_ann_model.h5'\n",
            "Cleaned dataset saved as 'cleaned_crime_data.csv'\n",
            "Results summary saved as 'model_results_summary.txt'\n",
            "\n",
            "================================================================================\n",
            "ANALYSIS COMPLETE!\n",
            "================================================================================\n",
            "\n",
            "Final Model Accuracy: 99.93%\n",
            "Model trained on 364716 samples\n",
            "Model tested on 91179 samples\n",
            "\n",
            "Files generated:\n",
            "  - crime_prediction_ann_model.h5\n",
            "  - cleaned_crime_data.csv\n",
            "  - crime_ann_analysis_results.png\n",
            "  - model_results_summary.txt\n"
          ]
        }
      ]
    },
    {
      "cell_type": "markdown",
      "source": [
        "## **LSTM**"
      ],
      "metadata": {
        "id": "pxzHPpfbzdLA"
      }
    },
    {
      "cell_type": "code",
      "source": [
        "import pandas as pd\n",
        "import numpy as np\n",
        "import matplotlib.pyplot as plt\n",
        "import seaborn as sns\n",
        "from sklearn.model_selection import train_test_split\n",
        "from sklearn.preprocessing import LabelEncoder, StandardScaler, MinMaxScaler\n",
        "from sklearn.metrics import classification_report, confusion_matrix, accuracy_score, f1_score\n",
        "import tensorflow as tf\n",
        "from tensorflow import keras\n",
        "from tensorflow.keras import layers\n",
        "from tensorflow.keras.utils import to_categorical"
      ],
      "metadata": {
        "id": "r3p1yle10BRi"
      },
      "execution_count": null,
      "outputs": []
    },
    {
      "cell_type": "code",
      "source": [
        "print(\"\\nCleaning data...\")\n",
        "df_clean = df.copy()\n",
        "\n",
        "# Remove duplicates\n",
        "df_clean = df_clean.drop_duplicates()\n",
        "\n",
        "# Drop columns with >50% missing values\n",
        "threshold = len(df_clean) * 0.5\n",
        "df_clean = df_clean.dropna(thresh=threshold, axis=1)\n",
        "\n",
        "# Fill remaining missing values\n",
        "for col in df_clean.columns:\n",
        "    if df_clean[col].isnull().sum() > 0:\n",
        "        if df_clean[col].dtype in ['int64', 'float64']:\n",
        "            df_clean[col].fillna(df_clean[col].median(), inplace=True)\n",
        "        else:\n",
        "            df_clean[col].fillna(df_clean[col].mode()[0], inplace=True)\n",
        "\n",
        "# Convert date columns\n",
        "date_columns = [col for col in df_clean.columns if 'date' in col.lower() or 'time' in col.lower()]\n",
        "for col in date_columns:\n",
        "    try:\n",
        "        df_clean[col] = pd.to_datetime(df_clean[col], errors='coerce')\n",
        "    except:\n",
        "        pass\n",
        "\n",
        "print(f\"Cleaned dataset shape: {df_clean.shape}\")"
      ],
      "metadata": {
        "colab": {
          "base_uri": "https://localhost:8080/"
        },
        "id": "2DcPtm1h0Kjs",
        "outputId": "b24fe699-cac4-48a2-dee7-125fad307296"
      },
      "execution_count": null,
      "outputs": [
        {
          "output_type": "stream",
          "name": "stdout",
          "text": [
            "\n",
            "Cleaning data...\n",
            "Cleaned dataset shape: (743817, 22)\n"
          ]
        }
      ]
    },
    {
      "cell_type": "code",
      "source": [
        "print(\"\\n\" + \"=\"*80)\n",
        "print(\"TIME-SERIES FEATURE ENGINEERING\")\n",
        "print(\"=\"*80)\n",
        "\n",
        "# Find datetime column\n",
        "datetime_col = None\n",
        "for col in df_clean.columns:\n",
        "    if pd.api.types.is_datetime64_any_dtype(df_clean[col]):\n",
        "        datetime_col = col\n",
        "        break\n",
        "\n",
        "if datetime_col:\n",
        "    print(f\"\\nUsing datetime column: {datetime_col}\")\n",
        "    df_clean = df_clean.sort_values(datetime_col)\n",
        "    df_clean = df_clean.reset_index(drop=True)\n",
        "\n",
        "    # Extract temporal features\n",
        "    df_clean['year'] = df_clean[datetime_col].dt.year\n",
        "    df_clean['month'] = df_clean[datetime_col].dt.month\n",
        "    df_clean['day'] = df_clean[datetime_col].dt.day\n",
        "    df_clean['hour'] = df_clean[datetime_col].dt.hour\n",
        "    df_clean['dayofweek'] = df_clean[datetime_col].dt.dayofweek\n",
        "    df_clean['quarter'] = df_clean[datetime_col].dt.quarter\n",
        "    df_clean['is_weekend'] = (df_clean['dayofweek'] >= 5).astype(int)\n",
        "else:\n",
        "    print(\"\\nNo datetime column found, creating synthetic time index\")\n",
        "    df_clean['time_index'] = range(len(df_clean))\n",
        "\n",
        "# Select target variable\n",
        "potential_targets = ['Crm Cd Desc', 'Status Desc', 'Crime Code Description', 'Status']\n",
        "target_col = None\n",
        "for col in potential_targets:\n",
        "    if col in df_clean.columns:\n",
        "        target_col = col\n",
        "        break\n",
        "\n",
        "if target_col is None:\n",
        "    categorical_cols = df_clean.select_dtypes(include=['object']).columns.tolist()\n",
        "    for col in categorical_cols:\n",
        "        n_unique = df_clean[col].nunique()\n",
        "        if 2 <= n_unique <= 50:\n",
        "            target_col = col\n",
        "            break\n",
        "\n",
        "print(f\"\\nTarget variable: {target_col}\")\n",
        "print(f\"Number of unique classes: {df_clean[target_col].nunique()}\")\n",
        "\n",
        "# Use top classes for better performance\n",
        "TOP_N_CLASSES = 10\n",
        "top_classes = df_clean[target_col].value_counts().head(TOP_N_CLASSES).index\n",
        "df_model = df_clean[df_clean[target_col].isin(top_classes)].copy()\n",
        "df_model = df_model.reset_index(drop=True)\n",
        "\n",
        "print(f\"Filtered to top {TOP_N_CLASSES} classes: {df_model.shape}\")\n",
        "print(f\"\\nClass distribution:\\n{df_model[target_col].value_counts()}\")"
      ],
      "metadata": {
        "colab": {
          "base_uri": "https://localhost:8080/"
        },
        "id": "AdXxMSy3zjLV",
        "outputId": "00fa18c4-f275-4f22-fe99-27d6cb1dc38a"
      },
      "execution_count": null,
      "outputs": [
        {
          "output_type": "stream",
          "name": "stdout",
          "text": [
            "\n",
            "================================================================================\n",
            "TIME-SERIES FEATURE ENGINEERING\n",
            "================================================================================\n",
            "\n",
            "Using datetime column: Date Rptd\n",
            "\n",
            "Target variable: Crm Cd Desc\n",
            "Number of unique classes: 138\n",
            "Filtered to top 10 classes: (470580, 29)\n",
            "\n",
            "Class distribution:\n",
            "Crm Cd Desc\n",
            "VEHICLE - STOLEN                                           79513\n",
            "BATTERY - SIMPLE ASSAULT                                   58896\n",
            "THEFT OF IDENTITY                                          48155\n",
            "BURGLARY FROM VEHICLE                                      46016\n",
            "VANDALISM - FELONY ($400 & OVER, ALL CHURCH VANDALISMS)    45626\n",
            "BURGLARY                                                   45164\n",
            "ASSAULT WITH DEADLY WEAPON, AGGRAVATED ASSAULT             42616\n",
            "THEFT PLAIN - PETTY ($950 & UNDER)                         38065\n",
            "INTIMATE PARTNER - SIMPLE ASSAULT                          37508\n",
            "THEFT FROM MOTOR VEHICLE - PETTY ($950 & UNDER)            29021\n",
            "Name: count, dtype: int64\n"
          ]
        }
      ]
    },
    {
      "cell_type": "code",
      "source": [
        "print(\"\\n\" + \"=\"*80)\n",
        "print(\"CREATING TIME-SERIES SEQUENCES\")\n",
        "print(\"=\"*80)\n",
        "\n",
        "# Prepare features\n",
        "feature_cols = [col for col in df_model.columns if col != target_col]\n",
        "\n",
        "# Encode categorical features\n",
        "X_encoded = df_model[feature_cols].copy()\n",
        "le_dict = {}\n",
        "\n",
        "for col in X_encoded.select_dtypes(include=['object']).columns:\n",
        "    le = LabelEncoder()\n",
        "    X_encoded[col] = le.fit_transform(X_encoded[col].astype(str))\n",
        "    le_dict[col] = le\n",
        "\n",
        "# Handle remaining datetime columns\n",
        "for col in X_encoded.columns:\n",
        "    if pd.api.types.is_datetime64_any_dtype(X_encoded[col]):\n",
        "        X_encoded = X_encoded.drop(col, axis=1)\n",
        "\n",
        "# Encode target\n",
        "le_target = LabelEncoder()\n",
        "y_encoded = le_target.fit_transform(df_model[target_col])\n",
        "\n",
        "# Scale features\n",
        "from sklearn.preprocessing import MinMaxScaler\n",
        "scaler = MinMaxScaler()\n",
        "X_scaled = scaler.fit_transform(X_encoded)\n",
        "\n",
        "# Create sequences for LSTM\n",
        "# LSTM needs input shape: (samples, timesteps, features)\n",
        "SEQUENCE_LENGTH = 10  # Use last 10 records to predict next one\n",
        "\n",
        "def create_sequences(X, y, seq_length):\n",
        "    X_seq, y_seq = [], []\n",
        "    for i in range(len(X) - seq_length):\n",
        "        X_seq.append(X[i:i+seq_length])\n",
        "        y_seq.append(y[i+seq_length])\n",
        "    return np.array(X_seq), np.array(y_seq)\n",
        "\n",
        "X_sequences, y_sequences = create_sequences(X_scaled, y_encoded, SEQUENCE_LENGTH)\n",
        "\n",
        "print(f\"\\nSequence shape: {X_sequences.shape}\")\n",
        "print(f\"  - Samples: {X_sequences.shape[0]}\")\n",
        "print(f\"  - Timesteps: {X_sequences.shape[1]}\")\n",
        "print(f\"  - Features: {X_sequences.shape[2]}\")"
      ],
      "metadata": {
        "colab": {
          "base_uri": "https://localhost:8080/"
        },
        "id": "ONdpMK2Vzs9s",
        "outputId": "60dd445a-dd8b-431d-db7a-ca7cf40326ca"
      },
      "execution_count": null,
      "outputs": [
        {
          "output_type": "stream",
          "name": "stdout",
          "text": [
            "\n",
            "================================================================================\n",
            "CREATING TIME-SERIES SEQUENCES\n",
            "================================================================================\n",
            "\n",
            "Sequence shape: (470570, 10, 25)\n",
            "  - Samples: 470570\n",
            "  - Timesteps: 10\n",
            "  - Features: 25\n"
          ]
        }
      ]
    },
    {
      "cell_type": "code",
      "source": [
        "# Split data\n",
        "X_train, X_test, y_train, y_test = train_test_split(\n",
        "    X_sequences, y_sequences, test_size=0.2, random_state=42\n",
        ")\n",
        "\n",
        "# Convert to categorical for multi-class classification\n",
        "n_classes = len(np.unique(y_encoded))\n",
        "y_train_cat = to_categorical(y_train, num_classes=n_classes)\n",
        "y_test_cat = to_categorical(y_test, num_classes=n_classes)\n",
        "\n",
        "print(f\"\\nTraining sequences: {X_train.shape}\")\n",
        "print(f\"Test sequences: {X_test.shape}\")"
      ],
      "metadata": {
        "colab": {
          "base_uri": "https://localhost:8080/"
        },
        "id": "GkMUDjxu0in_",
        "outputId": "a727ecc1-e7e2-47be-f6a1-072c5db1b4bb"
      },
      "execution_count": null,
      "outputs": [
        {
          "output_type": "stream",
          "name": "stdout",
          "text": [
            "\n",
            "Training sequences: (376456, 10, 25)\n",
            "Test sequences: (94114, 10, 25)\n"
          ]
        }
      ]
    },
    {
      "cell_type": "code",
      "source": [
        "# BUILD LSTM MODEL\n",
        "# ============================================================================\n",
        "print(\"\\n\" + \"=\"*80)\n",
        "print(\"BUILDING LSTM MODEL\")\n",
        "print(\"=\"*80)\n",
        "\n",
        "model = keras.Sequential([\n",
        "    layers.LSTM(128, return_sequences=True, input_shape=(SEQUENCE_LENGTH, X_sequences.shape[2])),\n",
        "    layers.Dropout(0.3),\n",
        "    layers.LSTM(64, return_sequences=True),\n",
        "    layers.Dropout(0.2),\n",
        "    layers.LSTM(32, return_sequences=False),\n",
        "    layers.Dropout(0.1),\n",
        "    layers.Dense(64, activation='relu'),\n",
        "    layers.Dropout(0.1),\n",
        "    layers.Dense(n_classes, activation='softmax')\n",
        "])\n",
        "\n",
        "model.compile(\n",
        "    optimizer='adam',\n",
        "    loss='categorical_crossentropy',\n",
        "    metrics=['accuracy']\n",
        ")\n",
        "\n",
        "print(model.summary())\n"
      ],
      "metadata": {
        "colab": {
          "base_uri": "https://localhost:8080/",
          "height": 508
        },
        "id": "ZnZz0YMl0t_A",
        "outputId": "92c527a1-6671-4af0-ad18-09d3422955af"
      },
      "execution_count": null,
      "outputs": [
        {
          "output_type": "stream",
          "name": "stdout",
          "text": [
            "\n",
            "================================================================================\n",
            "BUILDING LSTM MODEL\n",
            "================================================================================\n"
          ]
        },
        {
          "output_type": "display_data",
          "data": {
            "text/plain": [
              "\u001b[1mModel: \"sequential_1\"\u001b[0m\n"
            ],
            "text/html": [
              "<pre style=\"white-space:pre;overflow-x:auto;line-height:normal;font-family:Menlo,'DejaVu Sans Mono',consolas,'Courier New',monospace\"><span style=\"font-weight: bold\">Model: \"sequential_1\"</span>\n",
              "</pre>\n"
            ]
          },
          "metadata": {}
        },
        {
          "output_type": "display_data",
          "data": {
            "text/plain": [
              "┏━━━━━━━━━━━━━━━━━━━━━━━━━━━━━━━━━┳━━━━━━━━━━━━━━━━━━━━━━━━┳━━━━━━━━━━━━━━━┓\n",
              "┃\u001b[1m \u001b[0m\u001b[1mLayer (type)                   \u001b[0m\u001b[1m \u001b[0m┃\u001b[1m \u001b[0m\u001b[1mOutput Shape          \u001b[0m\u001b[1m \u001b[0m┃\u001b[1m \u001b[0m\u001b[1m      Param #\u001b[0m\u001b[1m \u001b[0m┃\n",
              "┡━━━━━━━━━━━━━━━━━━━━━━━━━━━━━━━━━╇━━━━━━━━━━━━━━━━━━━━━━━━╇━━━━━━━━━━━━━━━┩\n",
              "│ lstm (\u001b[38;5;33mLSTM\u001b[0m)                     │ (\u001b[38;5;45mNone\u001b[0m, \u001b[38;5;34m10\u001b[0m, \u001b[38;5;34m128\u001b[0m)        │        \u001b[38;5;34m78,848\u001b[0m │\n",
              "├─────────────────────────────────┼────────────────────────┼───────────────┤\n",
              "│ dropout_3 (\u001b[38;5;33mDropout\u001b[0m)             │ (\u001b[38;5;45mNone\u001b[0m, \u001b[38;5;34m10\u001b[0m, \u001b[38;5;34m128\u001b[0m)        │             \u001b[38;5;34m0\u001b[0m │\n",
              "├─────────────────────────────────┼────────────────────────┼───────────────┤\n",
              "│ lstm_1 (\u001b[38;5;33mLSTM\u001b[0m)                   │ (\u001b[38;5;45mNone\u001b[0m, \u001b[38;5;34m10\u001b[0m, \u001b[38;5;34m64\u001b[0m)         │        \u001b[38;5;34m49,408\u001b[0m │\n",
              "├─────────────────────────────────┼────────────────────────┼───────────────┤\n",
              "│ dropout_4 (\u001b[38;5;33mDropout\u001b[0m)             │ (\u001b[38;5;45mNone\u001b[0m, \u001b[38;5;34m10\u001b[0m, \u001b[38;5;34m64\u001b[0m)         │             \u001b[38;5;34m0\u001b[0m │\n",
              "├─────────────────────────────────┼────────────────────────┼───────────────┤\n",
              "│ lstm_2 (\u001b[38;5;33mLSTM\u001b[0m)                   │ (\u001b[38;5;45mNone\u001b[0m, \u001b[38;5;34m32\u001b[0m)             │        \u001b[38;5;34m12,416\u001b[0m │\n",
              "├─────────────────────────────────┼────────────────────────┼───────────────┤\n",
              "│ dropout_5 (\u001b[38;5;33mDropout\u001b[0m)             │ (\u001b[38;5;45mNone\u001b[0m, \u001b[38;5;34m32\u001b[0m)             │             \u001b[38;5;34m0\u001b[0m │\n",
              "├─────────────────────────────────┼────────────────────────┼───────────────┤\n",
              "│ dense_4 (\u001b[38;5;33mDense\u001b[0m)                 │ (\u001b[38;5;45mNone\u001b[0m, \u001b[38;5;34m64\u001b[0m)             │         \u001b[38;5;34m2,112\u001b[0m │\n",
              "├─────────────────────────────────┼────────────────────────┼───────────────┤\n",
              "│ dropout_6 (\u001b[38;5;33mDropout\u001b[0m)             │ (\u001b[38;5;45mNone\u001b[0m, \u001b[38;5;34m64\u001b[0m)             │             \u001b[38;5;34m0\u001b[0m │\n",
              "├─────────────────────────────────┼────────────────────────┼───────────────┤\n",
              "│ dense_5 (\u001b[38;5;33mDense\u001b[0m)                 │ (\u001b[38;5;45mNone\u001b[0m, \u001b[38;5;34m10\u001b[0m)             │           \u001b[38;5;34m650\u001b[0m │\n",
              "└─────────────────────────────────┴────────────────────────┴───────────────┘\n"
            ],
            "text/html": [
              "<pre style=\"white-space:pre;overflow-x:auto;line-height:normal;font-family:Menlo,'DejaVu Sans Mono',consolas,'Courier New',monospace\">┏━━━━━━━━━━━━━━━━━━━━━━━━━━━━━━━━━┳━━━━━━━━━━━━━━━━━━━━━━━━┳━━━━━━━━━━━━━━━┓\n",
              "┃<span style=\"font-weight: bold\"> Layer (type)                    </span>┃<span style=\"font-weight: bold\"> Output Shape           </span>┃<span style=\"font-weight: bold\">       Param # </span>┃\n",
              "┡━━━━━━━━━━━━━━━━━━━━━━━━━━━━━━━━━╇━━━━━━━━━━━━━━━━━━━━━━━━╇━━━━━━━━━━━━━━━┩\n",
              "│ lstm (<span style=\"color: #0087ff; text-decoration-color: #0087ff\">LSTM</span>)                     │ (<span style=\"color: #00d7ff; text-decoration-color: #00d7ff\">None</span>, <span style=\"color: #00af00; text-decoration-color: #00af00\">10</span>, <span style=\"color: #00af00; text-decoration-color: #00af00\">128</span>)        │        <span style=\"color: #00af00; text-decoration-color: #00af00\">78,848</span> │\n",
              "├─────────────────────────────────┼────────────────────────┼───────────────┤\n",
              "│ dropout_3 (<span style=\"color: #0087ff; text-decoration-color: #0087ff\">Dropout</span>)             │ (<span style=\"color: #00d7ff; text-decoration-color: #00d7ff\">None</span>, <span style=\"color: #00af00; text-decoration-color: #00af00\">10</span>, <span style=\"color: #00af00; text-decoration-color: #00af00\">128</span>)        │             <span style=\"color: #00af00; text-decoration-color: #00af00\">0</span> │\n",
              "├─────────────────────────────────┼────────────────────────┼───────────────┤\n",
              "│ lstm_1 (<span style=\"color: #0087ff; text-decoration-color: #0087ff\">LSTM</span>)                   │ (<span style=\"color: #00d7ff; text-decoration-color: #00d7ff\">None</span>, <span style=\"color: #00af00; text-decoration-color: #00af00\">10</span>, <span style=\"color: #00af00; text-decoration-color: #00af00\">64</span>)         │        <span style=\"color: #00af00; text-decoration-color: #00af00\">49,408</span> │\n",
              "├─────────────────────────────────┼────────────────────────┼───────────────┤\n",
              "│ dropout_4 (<span style=\"color: #0087ff; text-decoration-color: #0087ff\">Dropout</span>)             │ (<span style=\"color: #00d7ff; text-decoration-color: #00d7ff\">None</span>, <span style=\"color: #00af00; text-decoration-color: #00af00\">10</span>, <span style=\"color: #00af00; text-decoration-color: #00af00\">64</span>)         │             <span style=\"color: #00af00; text-decoration-color: #00af00\">0</span> │\n",
              "├─────────────────────────────────┼────────────────────────┼───────────────┤\n",
              "│ lstm_2 (<span style=\"color: #0087ff; text-decoration-color: #0087ff\">LSTM</span>)                   │ (<span style=\"color: #00d7ff; text-decoration-color: #00d7ff\">None</span>, <span style=\"color: #00af00; text-decoration-color: #00af00\">32</span>)             │        <span style=\"color: #00af00; text-decoration-color: #00af00\">12,416</span> │\n",
              "├─────────────────────────────────┼────────────────────────┼───────────────┤\n",
              "│ dropout_5 (<span style=\"color: #0087ff; text-decoration-color: #0087ff\">Dropout</span>)             │ (<span style=\"color: #00d7ff; text-decoration-color: #00d7ff\">None</span>, <span style=\"color: #00af00; text-decoration-color: #00af00\">32</span>)             │             <span style=\"color: #00af00; text-decoration-color: #00af00\">0</span> │\n",
              "├─────────────────────────────────┼────────────────────────┼───────────────┤\n",
              "│ dense_4 (<span style=\"color: #0087ff; text-decoration-color: #0087ff\">Dense</span>)                 │ (<span style=\"color: #00d7ff; text-decoration-color: #00d7ff\">None</span>, <span style=\"color: #00af00; text-decoration-color: #00af00\">64</span>)             │         <span style=\"color: #00af00; text-decoration-color: #00af00\">2,112</span> │\n",
              "├─────────────────────────────────┼────────────────────────┼───────────────┤\n",
              "│ dropout_6 (<span style=\"color: #0087ff; text-decoration-color: #0087ff\">Dropout</span>)             │ (<span style=\"color: #00d7ff; text-decoration-color: #00d7ff\">None</span>, <span style=\"color: #00af00; text-decoration-color: #00af00\">64</span>)             │             <span style=\"color: #00af00; text-decoration-color: #00af00\">0</span> │\n",
              "├─────────────────────────────────┼────────────────────────┼───────────────┤\n",
              "│ dense_5 (<span style=\"color: #0087ff; text-decoration-color: #0087ff\">Dense</span>)                 │ (<span style=\"color: #00d7ff; text-decoration-color: #00d7ff\">None</span>, <span style=\"color: #00af00; text-decoration-color: #00af00\">10</span>)             │           <span style=\"color: #00af00; text-decoration-color: #00af00\">650</span> │\n",
              "└─────────────────────────────────┴────────────────────────┴───────────────┘\n",
              "</pre>\n"
            ]
          },
          "metadata": {}
        },
        {
          "output_type": "display_data",
          "data": {
            "text/plain": [
              "\u001b[1m Total params: \u001b[0m\u001b[38;5;34m143,434\u001b[0m (560.29 KB)\n"
            ],
            "text/html": [
              "<pre style=\"white-space:pre;overflow-x:auto;line-height:normal;font-family:Menlo,'DejaVu Sans Mono',consolas,'Courier New',monospace\"><span style=\"font-weight: bold\"> Total params: </span><span style=\"color: #00af00; text-decoration-color: #00af00\">143,434</span> (560.29 KB)\n",
              "</pre>\n"
            ]
          },
          "metadata": {}
        },
        {
          "output_type": "display_data",
          "data": {
            "text/plain": [
              "\u001b[1m Trainable params: \u001b[0m\u001b[38;5;34m143,434\u001b[0m (560.29 KB)\n"
            ],
            "text/html": [
              "<pre style=\"white-space:pre;overflow-x:auto;line-height:normal;font-family:Menlo,'DejaVu Sans Mono',consolas,'Courier New',monospace\"><span style=\"font-weight: bold\"> Trainable params: </span><span style=\"color: #00af00; text-decoration-color: #00af00\">143,434</span> (560.29 KB)\n",
              "</pre>\n"
            ]
          },
          "metadata": {}
        },
        {
          "output_type": "display_data",
          "data": {
            "text/plain": [
              "\u001b[1m Non-trainable params: \u001b[0m\u001b[38;5;34m0\u001b[0m (0.00 B)\n"
            ],
            "text/html": [
              "<pre style=\"white-space:pre;overflow-x:auto;line-height:normal;font-family:Menlo,'DejaVu Sans Mono',consolas,'Courier New',monospace\"><span style=\"font-weight: bold\"> Non-trainable params: </span><span style=\"color: #00af00; text-decoration-color: #00af00\">0</span> (0.00 B)\n",
              "</pre>\n"
            ]
          },
          "metadata": {}
        },
        {
          "output_type": "stream",
          "name": "stdout",
          "text": [
            "None\n"
          ]
        }
      ]
    },
    {
      "cell_type": "code",
      "source": [
        "# TRAIN LSTM MODEL\n",
        "# ============================================================================\n",
        "print(\"\\n\" + \"=\"*80)\n",
        "print(\"TRAINING LSTM MODEL\")\n",
        "print(\"=\"*80)\n",
        "\n",
        "history = model.fit(\n",
        "    X_train, y_train_cat,\n",
        "    epochs=50,\n",
        "    batch_size=64,\n",
        "    validation_split=0.2,\n",
        "    verbose=1,\n",
        "    callbacks=[\n",
        "        keras.callbacks.EarlyStopping(monitor='val_loss', patience=7, restore_best_weights=True),\n",
        "        keras.callbacks.ReduceLROnPlateau(monitor='val_loss', factor=0.5, patience=3, min_lr=1e-7)\n",
        "    ]\n",
        ")"
      ],
      "metadata": {
        "colab": {
          "base_uri": "https://localhost:8080/"
        },
        "id": "hohI2e8y01kG",
        "outputId": "eeffc40b-0eb5-45ee-b71f-62c9a3afe3fd"
      },
      "execution_count": null,
      "outputs": [
        {
          "output_type": "stream",
          "name": "stdout",
          "text": [
            "\n",
            "================================================================================\n",
            "TRAINING LSTM MODEL\n",
            "================================================================================\n",
            "Epoch 1/50\n",
            "\u001b[1m4706/4706\u001b[0m \u001b[32m━━━━━━━━━━━━━━━━━━━━\u001b[0m\u001b[37m\u001b[0m \u001b[1m124s\u001b[0m 26ms/step - accuracy: 0.1755 - loss: 2.2550 - val_accuracy: 0.1810 - val_loss: 2.2480 - learning_rate: 0.0010\n",
            "Epoch 2/50\n",
            "\u001b[1m4706/4706\u001b[0m \u001b[32m━━━━━━━━━━━━━━━━━━━━\u001b[0m\u001b[37m\u001b[0m \u001b[1m117s\u001b[0m 25ms/step - accuracy: 0.1825 - loss: 2.2452 - val_accuracy: 0.1806 - val_loss: 2.2452 - learning_rate: 0.0010\n",
            "Epoch 3/50\n",
            "\u001b[1m4706/4706\u001b[0m \u001b[32m━━━━━━━━━━━━━━━━━━━━\u001b[0m\u001b[37m\u001b[0m \u001b[1m144s\u001b[0m 25ms/step - accuracy: 0.1824 - loss: 2.2445 - val_accuracy: 0.1816 - val_loss: 2.2443 - learning_rate: 0.0010\n",
            "Epoch 4/50\n",
            "\u001b[1m4706/4706\u001b[0m \u001b[32m━━━━━━━━━━━━━━━━━━━━\u001b[0m\u001b[37m\u001b[0m \u001b[1m142s\u001b[0m 25ms/step - accuracy: 0.1841 - loss: 2.2436 - val_accuracy: 0.1802 - val_loss: 2.2456 - learning_rate: 0.0010\n",
            "Epoch 5/50\n",
            "\u001b[1m4704/4706\u001b[0m \u001b[32m━━━━━━━━━━━━━━━━━━━\u001b[0m\u001b[37m━\u001b[0m \u001b[1m0s\u001b[0m 24ms/step - accuracy: 0.1833 - loss: 2.2437"
          ]
        }
      ]
    }
  ]
}